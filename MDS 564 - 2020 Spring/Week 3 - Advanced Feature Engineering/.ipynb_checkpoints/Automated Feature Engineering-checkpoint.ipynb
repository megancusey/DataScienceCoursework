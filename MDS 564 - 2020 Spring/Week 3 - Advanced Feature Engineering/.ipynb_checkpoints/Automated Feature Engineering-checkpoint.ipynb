{
 "cells": [
  {
   "cell_type": "code",
   "execution_count": null,
   "metadata": {
    "scrolled": true
   },
   "outputs": [],
   "source": [
    "import pandas as pd\n",
    "import csv\n",
    "\n",
    "## Online News Popularity Data Set\n",
    "train_df = pd.read_csv('C://Users/cusey/source/repos/DataScienceCoursework/MDS 564 - 2020 Spring/Week 2 - Numeric Feature Selection/OnlineNewsPopularity.csv')\n",
    "\n",
    "train_df\n",
    "#head(train_df)"
   ]
  }
 ],
 "metadata": {
  "kernelspec": {
   "display_name": "Python 3",
   "language": "python",
   "name": "python3"
  },
  "language_info": {
   "codemirror_mode": {
    "name": "ipython",
    "version": 3
   },
   "file_extension": ".py",
   "mimetype": "text/x-python",
   "name": "python",
   "nbconvert_exporter": "python",
   "pygments_lexer": "ipython3",
   "version": "3.7.4"
  }
 },
 "nbformat": 4,
 "nbformat_minor": 2
}
